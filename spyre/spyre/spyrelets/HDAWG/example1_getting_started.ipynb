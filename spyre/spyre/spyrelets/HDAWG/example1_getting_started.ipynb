{
 "cells": [
  {
   "cell_type": "markdown",
   "metadata": {},
   "source": [
    "# Quick Start Guide\n",
    "\n",
    "Import the *toolkit* from the *zhinst* namespace as follows:\n"
   ]
  },
  {
   "cell_type": "code",
   "execution_count": 1,
   "metadata": {},
   "outputs": [],
   "source": [
    "import zhinst.toolkit as tk"
   ]
  },
  {
   "cell_type": "markdown",
   "metadata": {},
   "source": [
    "## Initialize the device\n",
    "\n",
    "The *toolkit* provides instrument drivers for multiple different *Zurich Instruments* devices. It includes drivers for\n",
    "\n",
    "* HDAWG\n",
    "* UHFQA\n",
    "* PQSC\n",
    "* UHFLI\n",
    "* MFLI\n",
    "\n",
    "All of the instrument drivers available in the *toolkit* share some basic device properties. Every device is identified by a `name` and a `serial` number. The `name` is free for the user to chose and only for their convenience. The `serial` however, is a unique identifier for every *Zurich Instruments* device. The serial number can be found on the back panel of instrument and is of the format `DEV1234`. In addition, the *toolkit* needs to know what `interface` the device uses and where to find the data server (`host`). The value for the interface defaults to a connection via Ethernet (`1GbE`) and the host address is `localhost` unless specified otherwise.\n",
    "\n",
    "As a first example, we now initialize the instrument driver for a HDAWG. We name it `hdawg1` and we know that our device's serial number is `dev8030`."
   ]
  },
  {
   "cell_type": "code",
   "execution_count": 2,
   "metadata": {
    "scrolled": true
   },
   "outputs": [
    {
     "name": "stdout",
     "output_type": "stream",
     "text": [
      "Successfully connected to data server at localhost:8004 api version: 6\n",
      "Successfully connected to device DEV8345 on interface USB\n"
     ]
    }
   ],
   "source": [
    "hdawg = tk.HDAWG(\"hdawg1\", \"dev8345\", interface=\"usb\")\n",
    "\n",
    "hdawg.setup()           # set up data server connection\n",
    "hdawg.connect_device()  # connect device to data server"
   ]
  },
  {
   "cell_type": "markdown",
   "metadata": {},
   "source": [
    "The methods `setup()` and `connect_device()` initialize the data server and connect the device to it. Now the device is connected and ready to go.\n",
    "\n",
    "Every instrument driver in the *toolkit* features some properties with basic information about the device. What was the device's serial number again? What options are installed?"
   ]
  },
  {
   "cell_type": "code",
   "execution_count": 3,
   "metadata": {},
   "outputs": [
    {
     "name": "stdout",
     "output_type": "stream",
     "text": [
      "name:        hdawg1\n",
      "serial:      dev8345\n",
      "device:      DeviceTypes.HDAWG\n",
      "options:     ['']\n",
      "interface:   usb\n",
      "connected:   True\n"
     ]
    }
   ],
   "source": [
    "print(f\"name:        {hdawg.name}\")\n",
    "print(f\"serial:      {hdawg.serial}\")\n",
    "print(f\"device:      {hdawg.device_type}\")\n",
    "print(f\"options:     {hdawg.options}\")\n",
    "print(f\"interface:   {hdawg.interface}\")\n",
    "print(f\"connected:   {hdawg.is_connected}\")"
   ]
  },
  {
   "cell_type": "markdown",
   "metadata": {},
   "source": [
    "## Access the device's nodetree  \n",
    "\n",
    "The driver's property `nodetree` is a data structure that allows the user to access all the settings and data on the device. The settings are highly structured into logical groups, enumerations and options. \n",
    "\n",
    "For example, all of the device's signal inputs and all of its signal outputs are grouped together. Also the HDAWG's eight sine generators are grouped into `sines` that are then enumerated from `0 - 7`. Each `Node` in the nodetree as well as the nodetree itself can have other `Nodes` or `Parameters` as attributes. The `Parameters` are the 'leaves' of the tree data structure and represent individual settings or data on the instrument.\n",
    "\n",
    "```\n",
    "HDAWG\n",
    "└── nodetree   \n",
    "    │\n",
    "    └─── sigouts             <--- Node List\n",
    "    │    └─── 0              <--- Node\n",
    "    │    │    └─── on        <--- Prameter\n",
    "    │    │    └─── range \n",
    "    │    │    └─── direct\n",
    "    │    │    └─── offset\n",
    "    │    │    └─── ...\n",
    "    │    └─── 1  \n",
    "    │    └─── ...  \n",
    "    │\n",
    "    └─── oscs \n",
    "    │    └─── 0\n",
    "    │    │    └─── freq\n",
    "    │    └─── 1\n",
    "    │    └─── 2\n",
    "    │    └─── ...\n",
    "    │\n",
    "    └─── sines\n",
    "    │    └─── ...\n",
    "    │\n",
    "    └─── dio\n",
    "    │    └─── ...\n",
    "    │\n",
    "    └─── ...     \n",
    "```\n",
    "\n",
    "Enumerated nodes such as the eight sine-generators or 16 oscillators of the HDAWG are grouped together in lists. For example the node of the first sine-generator would be accessed via `hdawg.nodetree.sines[0]`. \n",
    "\n",
    "In a *Jupyter* notebook or a console it is easy to navigate through the `NodeTree`. At every given node, the object representation shows a list of all the available sub-nodes and parameters. In this way it is easy to find the exact setting you might need."
   ]
  },
  {
   "cell_type": "code",
   "execution_count": 4,
   "metadata": {},
   "outputs": [
    {
     "data": {
      "text/plain": [
       "<zhinst.toolkit.control.node_tree.NodeTree object at 0x000002268E9CCFA0>\n",
       "nodes:\n",
       " - stats\n",
       " - oscs\n",
       " - status\n",
       " - sines\n",
       " - dio\n",
       " - awgs\n",
       " - system\n",
       " - sigouts\n",
       " - triggers\n",
       " - features\n",
       "parameters:\n",
       " - clockbase"
      ]
     },
     "execution_count": 4,
     "metadata": {},
     "output_type": "execute_result"
    }
   ],
   "source": [
    "hdawg.nodetree"
   ]
  },
  {
   "cell_type": "code",
   "execution_count": null,
   "metadata": {},
   "outputs": [],
   "source": []
  },
  {
   "cell_type": "markdown",
   "metadata": {},
   "source": [
    "At the end of the tree, the leaves, are *zhinst-toolkit* `Parameters`. In case you wonder what a certain parameter does, its object representation offers an insightful description."
   ]
  },
  {
   "cell_type": "code",
   "execution_count": 5,
   "metadata": {},
   "outputs": [
    {
     "data": {
      "text/plain": [
       "0"
      ]
     },
     "execution_count": 5,
     "metadata": {},
     "output_type": "execute_result"
    }
   ],
   "source": [
    "hdawg.nodetree.system.clocks.referenceclock.source(0)"
   ]
  },
  {
   "cell_type": "markdown",
   "metadata": {},
   "source": [
    "The parameters are callable to set and get the instrument values."
   ]
  },
  {
   "cell_type": "code",
   "execution_count": 6,
   "metadata": {},
   "outputs": [
    {
     "data": {
      "text/plain": [
       "1.0"
      ]
     },
     "execution_count": 6,
     "metadata": {},
     "output_type": "execute_result"
    }
   ],
   "source": [
    "maxvolt=1.0\n",
    "hdawg.nodetree.sigouts[0].range(maxvolt)\n",
    "hdawg.nodetree.sigouts[1].range(maxvolt)"
   ]
  },
  {
   "cell_type": "markdown",
   "metadata": {},
   "source": [
    "The instrument driver's *nodetree* property is created whenever it connects the device to the data server. This ensures that the available nodes and parameters in the nodetree are always up to date with the latest version of the device's firmware. \n",
    "\n",
    "Depending on the device, the instrument drivers also have properties other than the `nodetree`. Those are called *Modules* and depend on the type of device at hand and the options installed on it. Modules can for example be the *Data Acquisition Module* or the *Sweeper Module*. The devices with AWGs such as the HDAWG, UHFQA and the UHFLI (if option is installed) feature *AWG Modules*. Each *AWG Module* controls two chanels and features high-level functionality for programming sequences of waveforms and generating IQ-Modulation signals.\n",
    "\n",
    "For more information, see the package documentation of the `zhinst-toolkit` and the following examples. "
   ]
  },
  {
   "cell_type": "code",
   "execution_count": 7,
   "metadata": {
    "scrolled": true
   },
   "outputs": [
    {
     "data": {
      "text/plain": [
       "1"
      ]
     },
     "execution_count": 7,
     "metadata": {},
     "output_type": "execute_result"
    }
   ],
   "source": [
    "hdawg.nodetree.system.awg.oscillatorcontrol(1)"
   ]
  },
  {
   "cell_type": "code",
   "execution_count": 8,
   "metadata": {},
   "outputs": [
    {
     "name": "stdout",
     "output_type": "stream",
     "text": [
      "Compilation successful\n",
      "hdawg1-0: Sequencer status: ELF file uploaded\n"
     ]
    }
   ],
   "source": [
    "hdawg.awgs[0].set_sequence_params(sequence_type=\"Custom\",path=\"C:/Program Files/Zurich Instruments/LabOne/WebServer/awg/src/test.seqc\",custom_params=[],)\n",
    "hdawg.awgs[0].compile()"
   ]
  },
  {
   "cell_type": "code",
   "execution_count": 9,
   "metadata": {},
   "outputs": [
    {
     "data": {
      "text/plain": [
       "6"
      ]
     },
     "execution_count": 9,
     "metadata": {},
     "output_type": "execute_result"
    }
   ],
   "source": [
    "hdawg.nodetree.triggers.out[0].source(4)\n",
    "hdawg.nodetree.triggers.out[1].source(6)"
   ]
  },
  {
   "cell_type": "code",
   "execution_count": 10,
   "metadata": {},
   "outputs": [],
   "source": [
    "iqfreq=100e6\n",
    "offset1=0.01\n",
    "offset2=0.02\n",
    "hdawg.nodetree.oscs[0].freq(iqfreq)\n",
    "hdawg.nodetree.oscs[1].freq(iqfreq)\n",
    "hdawg.awgs[0].gain1=1.0\n",
    "hdawg.awgs[0].gain2=0.95\n",
    "hdawg.nodetree.sigouts[0].offset(offset1)\n",
    "hdawg.nodetree.sigouts[1].offset(offset2)\n",
    "hdawg.awgs[0].modulation_phase_shift=98\n",
    "hdawg.awgs[0].enable_iq_modulation()"
   ]
  },
  {
   "cell_type": "code",
   "execution_count": 11,
   "metadata": {},
   "outputs": [],
   "source": [
    "hdawg.awgs[0].run()"
   ]
  },
  {
   "cell_type": "code",
   "execution_count": 12,
   "metadata": {},
   "outputs": [
    {
     "data": {
      "text/plain": [
       "'on'"
      ]
     },
     "execution_count": 12,
     "metadata": {},
     "output_type": "execute_result"
    }
   ],
   "source": [
    "hdawg.awgs[0].output1(\"on\")   \n",
    "hdawg.awgs[0].output2(\"on\")"
   ]
  },
  {
   "cell_type": "code",
   "execution_count": 13,
   "metadata": {},
   "outputs": [
    {
     "data": {
      "text/plain": [
       "'off'"
      ]
     },
     "execution_count": 13,
     "metadata": {},
     "output_type": "execute_result"
    }
   ],
   "source": [
    "hdawg.awgs[0].output1(\"off\")   \n",
    "hdawg.awgs[0].output2(\"off\")"
   ]
  },
  {
   "cell_type": "code",
   "execution_count": 14,
   "metadata": {},
   "outputs": [],
   "source": [
    "hdawg.awgs[0].disable_iq_modulation()"
   ]
  },
  {
   "cell_type": "code",
   "execution_count": 47,
   "metadata": {},
   "outputs": [
    {
     "data": {
      "text/plain": [
       "0"
      ]
     },
     "execution_count": 47,
     "metadata": {},
     "output_type": "execute_result"
    }
   ],
   "source": []
  },
  {
   "cell_type": "code",
   "execution_count": null,
   "metadata": {},
   "outputs": [],
   "source": []
  }
 ],
 "metadata": {
  "kernelspec": {
   "display_name": "Python 3",
   "language": "python",
   "name": "python3"
  },
  "language_info": {
   "codemirror_mode": {
    "name": "ipython",
    "version": 3
   },
   "file_extension": ".py",
   "mimetype": "text/x-python",
   "name": "python",
   "nbconvert_exporter": "python",
   "pygments_lexer": "ipython3",
   "version": "3.8.6"
  }
 },
 "nbformat": 4,
 "nbformat_minor": 4
}
